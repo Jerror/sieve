{
 "cells": [
  {
   "cell_type": "code",
   "execution_count": null,
   "id": "fc54298e-08d1-4046-99a1-7cd34395c42c",
   "metadata": {},
   "outputs": [],
   "source": [
    "%load_ext autoreload\n",
    "%autoreload 1"
   ]
  },
  {
   "cell_type": "code",
   "execution_count": null,
   "id": "05a6cd25-9448-4ca7-a236-c15c7d448b93",
   "metadata": {},
   "outputs": [],
   "source": [
    "import functools\n",
    "import itertools as it\n",
    "import operator as op\n",
    "import re\n",
    "import sys\n",
    "import warnings\n",
    "from decimal import Decimal\n",
    "from pathlib import Path\n",
    "\n",
    "import numpy as np\n",
    "import pandas as pd\n",
    "\n",
    "%aimport sieve\n",
    "\n",
    "%matplotlib inline\n",
    "pd_verbose = pd.option_context(\n",
    "    \"display.max_columns\",\n",
    "    50,\n",
    "    \"display.max_colwidth\",\n",
    "    50,\n",
    "    \"display.expand_frame_repr\",\n",
    "    False,\n",
    "    \"display.max_rows\",\n",
    "    10000,\n",
    ")"
   ]
  },
  {
   "cell_type": "code",
   "execution_count": null,
   "id": "87936377-6fc9-4d27-b8d2-1d1232bf5ab8",
   "metadata": {
    "ExecuteTime": {
     "end_time": "2021-06-14T21:30:23.345688Z",
     "start_time": "2021-06-14T21:30:23.342580Z"
    },
    "tags": []
   },
   "outputs": [],
   "source": [
    "one_cent = Decimal(\"0.01\")\n",
    "\n",
    "\n",
    "def c(value):\n",
    "    \"Convert `value` to Decimal cents.\"\n",
    "    return Decimal(value).quantize(one_cent)"
   ]
  },
  {
   "cell_type": "code",
   "execution_count": null,
   "id": "f3285db7-624a-4697-aff1-f544a50ecd18",
   "metadata": {
    "ExecuteTime": {
     "end_time": "2021-06-14T21:30:23.366144Z",
     "start_time": "2021-06-14T21:30:23.347295Z"
    },
    "tags": []
   },
   "outputs": [],
   "source": [
    "def index_to_date(df, date_col=\"Date\", drop=True, **sort_kwargs):\n",
    "    \"\"\" Reindex by date, sorted by (date, index)\n",
    "    Explicitly sorting the index guarantees datetime slicing will work. Need to sort multilevel\n",
    "    to preserve sorted transactions per-day.\n",
    "    \"\"\"\n",
    "    tmp = (df.reset_index().set_index(\n",
    "        [date_col,\n",
    "         \"index\"]).sort_index(**sort_kwargs).reset_index(level=\"index\"))\n",
    "    if not (np.diff(tmp[\"index\"]) > 0).all():\n",
    "        print(\n",
    "            \"Warning: transaction index sorted by date is not monotonic increasing\"\n",
    "        )\n",
    "    if drop:\n",
    "        tmp.drop(columns=\"index\", inplace=True)\n",
    "    return tmp"
   ]
  },
  {
   "cell_type": "code",
   "execution_count": null,
   "id": "bb70d663-b859-4068-927b-b97470e01ad6",
   "metadata": {
    "scrolled": true,
    "tags": []
   },
   "outputs": [],
   "source": [
    "demodf = pd.read_csv(\"5000_bank_rec_sample.csv\",\n",
    "                     parse_dates=[\"Date\"]).rename(columns={\n",
    "                         \"Deposits\": \"In\",\n",
    "                         \"Withdrawls\": \"Out\"\n",
    "                     })\n",
    "\n",
    "demodf = index_to_date(demodf).reset_index()\n",
    "\n",
    "quantcols = [\"In\", \"Out\", \"Balance\"]\n",
    "demodf[quantcols] = (demodf[quantcols].replace(\",\", \"\", regex=True).replace(\n",
    "    r\"\\s+\", np.nan, regex=True).astype(float).fillna(0).applymap(c))\n",
    "with pd_verbose:\n",
    "    display(demodf)"
   ]
  },
  {
   "cell_type": "code",
   "execution_count": null,
   "id": "ac2f7f35-325c-4faa-b1db-56c9f002475b",
   "metadata": {},
   "outputs": [],
   "source": [
    "sieve.reduce_matching(demodf, 'Description', ['In', 'Out'])"
   ]
  },
  {
   "cell_type": "code",
   "execution_count": null,
   "id": "67d1b870-16dc-4cd9-9f02-042b037e0e05",
   "metadata": {
    "tags": []
   },
   "outputs": [],
   "source": [
    "tree = sieve.SieveTree(demodf)\n",
    "\n",
    "tree = tree.extend([(\"select\", \"index == [352, 403]\")])\n",
    "\n",
    "tree = tree.extend((\n",
    "    (\"gt\", 'In > 1e6 | Out > 1e6'),\n",
    "    (\"str_isin\", \"Description == [\\\"ATM\\\", \\\"Cash\\\"]\"),\n",
    "    *((k, sieve.fun_contains_str('Description', patt, case=False))\n",
    "      for k, patt in (\n",
    "          (\"contains_debit\", \"debit\"),\n",
    "          (\"contains_misc\", \"misc\"),\n",
    "      )),\n",
    "))\n",
    "\n",
    "patts = ((k, re.compile(s, re.IGNORECASE))\n",
    "         for k, s in ((\"patt_trans\", \"trans\"), ))\n",
    "demo_dates = [\n",
    "    \"2020/\" + s\n",
    "    for s in (\"09/15\", \"10/12\", \"11/21\", \"08/20\", \"09/09\", \"10/30\", \"12/10\")\n",
    "]\n",
    "datelims = [\"2020-11-10\", \"2021-01-15\"]\n",
    "\n",
    "tree = tree.branch((\n",
    "    *((k, sieve.fun_contains_str('Description', patt)) for k, patt in patts),\n",
    "    (\"date_isin\", sieve.fun_date_isin('Date', demo_dates)),\n",
    "    (\"daterange\", \"Date >= \\\"{0}\\\" & Date <= \\\"{1}\\\"\".format(*datelims)),\n",
    "    (\"rem\", None),\n",
    "), \"gt\")\n",
    "\n",
    "tree = tree.branch([('lt1e5', 'In > 1e5 | Out > 1e5')], 'contains_debit')\n",
    "\n",
    "tree"
   ]
  },
  {
   "cell_type": "code",
   "execution_count": null,
   "id": "6627ac06-089a-44d6-9cee-7f07b5dfe8b5",
   "metadata": {},
   "outputs": [],
   "source": [
    "tree.reduce_remainder('Description', ['In', 'Out'])"
   ]
  },
  {
   "cell_type": "code",
   "execution_count": null,
   "id": "7105a859-4181-49ae-93cf-82d4cc7e8ac3",
   "metadata": {},
   "outputs": [],
   "source": [
    "treecp = tree.copy()\n",
    "res = sieve.Results()\n",
    "\n",
    "res.picker('gt').pick_leaf('date_isin', treecp.get_leaf('gt', 'date_isin'))\n",
    "\n",
    "res.picker('gt').pick_leaves(\n",
    "    filter(lambda km: km[0] != 'daterange', treecp.traverse_leaves('gt')))\n",
    "\n",
    "res.picker('lt').pick_leaves(((k[0], treecp.get_leaf(*k[1:])) for k in (\n",
    "    ('isin', 'str_isin'),\n",
    "    ('deb_llt', 'contains_debit', 'lt1e5'),\n",
    "    ('misc', 'contains_misc'),\n",
    ")))\n",
    "\n",
    "res.picker('down', 'we', 'go').pick_leaf('rem', treecp.get_leaf(None))\n",
    "\n",
    "treecp"
   ]
  },
  {
   "cell_type": "code",
   "execution_count": null,
   "id": "e9ee8b20-85c3-4b81-b932-3975be00d21b",
   "metadata": {},
   "outputs": [],
   "source": [
    "res"
   ]
  },
  {
   "cell_type": "code",
   "execution_count": null,
   "id": "bd7030c4-7783-4e13-acd1-d28ad420b679",
   "metadata": {},
   "outputs": [],
   "source": [
    "res.picker('gt').merged()"
   ]
  },
  {
   "cell_type": "code",
   "execution_count": null,
   "id": "bf5e1da0-f441-48c6-9ca1-fe4044039469",
   "metadata": {},
   "outputs": [],
   "source": [
    "res.picker('down').merged()"
   ]
  },
  {
   "cell_type": "code",
   "execution_count": null,
   "id": "2d3fbd9a-4457-424b-8a72-dc973394e13e",
   "metadata": {
    "tags": []
   },
   "outputs": [],
   "source": [
    "s = sieve.Sieve(demodf)\n",
    "\n",
    "s.extend([(\"select\", \"index == [352, 403]\")])\n",
    "\n",
    "s.extend((\n",
    "    (\"gt\", 'In > 1e6 | Out > 1e6'),\n",
    "    (\"str_isin\", \"Description == [\\\"ATM\\\", \\\"Cash\\\"]\"),\n",
    "    *((k, sieve.fun_contains_str('Description', patt, case=False))\n",
    "      for k, patt in (\n",
    "          (\"contains_debit\", \"debit\"),\n",
    "          (\"contains_misc\", \"misc\"),\n",
    "      )),\n",
    "))\n",
    "\n",
    "patts = ((k, re.compile(s, re.IGNORECASE))\n",
    "         for k, s in ((\"patt_trans\", \"trans\"), ))\n",
    "demo_dates = [\n",
    "    \"2020/\" + s\n",
    "    for s in (\"09/15\", \"10/12\", \"11/21\", \"08/20\", \"09/09\", \"10/30\", \"12/10\")\n",
    "]\n",
    "datelims = [\"2020-11-10\", \"2021-01-15\"]\n",
    "\n",
    "s.branch((\n",
    "    *((k, sieve.fun_contains_str('Description', patt)) for k, patt in patts),\n",
    "    (\"date_isin\", sieve.fun_date_isin('Date', demo_dates)),\n",
    "    (\"daterange\", \"Date >= \\\"{0}\\\" & Date <= \\\"{1}\\\"\".format(*datelims)),\n",
    "    (\"rem\", None),\n",
    "), \"gt\")\n",
    "\n",
    "s.branch([('lt1e5', 'In > 1e5 | Out > 1e5')], 'contains_debit')\n",
    "\n",
    "print(s.tree)\n",
    "\n",
    "s.pick_leaf(('date_isin', 'gt', 'date_isin'), 'gt')\n",
    "\n",
    "s.pick_leaves(\n",
    "    ((k[-1], *k)\n",
    "     for k in filter(lambda k: 'daterange' not in k, s.find_keys(('gt', )))),\n",
    "    'gt')\n",
    "\n",
    "s.pick_leaves((\n",
    "    ('isin', 'str_isin'),\n",
    "    ('deb_llt', 'contains_debit', 'lt1e5'),\n",
    "    ('misc', 'contains_misc'),\n",
    "), 'lt')\n",
    "\n",
    "s.pick_leaf(('rem', None), 'down', 'we', 'go')\n",
    "\n",
    "print(s.tree)\n",
    "\n",
    "print(s)\n",
    "\n",
    "s.merge('down')\n",
    "\n",
    "print(s)"
   ]
  },
  {
   "cell_type": "code",
   "execution_count": null,
   "id": "a308c4d6-d565-423e-a057-f3064c961233",
   "metadata": {},
   "outputs": [],
   "source": [
    "print(tree.table('gt', from_key='date_isin', table_right=quantcols))"
   ]
  },
  {
   "cell_type": "code",
   "execution_count": null,
   "id": "83822d80-8f58-4246-b06f-f13d3665937e",
   "metadata": {},
   "outputs": [],
   "source": [
    "tree2 = tree.extend([('lt1', 'In < 1 & Out < 1')])\n",
    "print(tree2.diff(tree, 1))"
   ]
  },
  {
   "cell_type": "code",
   "execution_count": null,
   "id": "1bb02d59-7dde-4cad-a5a7-289e55fc0ea9",
   "metadata": {},
   "outputs": [],
   "source": []
  }
 ],
 "metadata": {
  "kernelspec": {
   "display_name": "Python 3",
   "language": "python",
   "name": "python3"
  },
  "language_info": {
   "codemirror_mode": {
    "name": "ipython",
    "version": 3
   },
   "file_extension": ".py",
   "mimetype": "text/x-python",
   "name": "python",
   "nbconvert_exporter": "python",
   "pygments_lexer": "ipython3",
   "version": "3.8.8"
  }
 },
 "nbformat": 4,
 "nbformat_minor": 5
}
