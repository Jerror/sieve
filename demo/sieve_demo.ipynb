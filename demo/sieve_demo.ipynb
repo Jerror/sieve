{
 "cells": [
  {
   "cell_type": "code",
   "execution_count": null,
   "id": "fc54298e-08d1-4046-99a1-7cd34395c42c",
   "metadata": {},
   "outputs": [],
   "source": [
    "%load_ext autoreload\n",
    "%autoreload 1"
   ]
  },
  {
   "cell_type": "code",
   "execution_count": null,
   "id": "05a6cd25-9448-4ca7-a236-c15c7d448b93",
   "metadata": {},
   "outputs": [],
   "source": [
    "import copy\n",
    "import functools\n",
    "import itertools as it\n",
    "import operator as op\n",
    "import re\n",
    "import warnings\n",
    "from decimal import Decimal\n",
    "from pathlib import Path\n",
    "\n",
    "import numpy as np\n",
    "import pandas as pd\n",
    "\n",
    "%aimport sieve\n",
    "\n",
    "%matplotlib inline\n",
    "pd_verbose = pd.option_context(\n",
    "    \"display.max_columns\",\n",
    "    50,\n",
    "    \"display.max_colwidth\",\n",
    "    50,\n",
    "    \"display.expand_frame_repr\",\n",
    "    False,\n",
    "    \"display.max_rows\",\n",
    "    10000,\n",
    ")"
   ]
  },
  {
   "cell_type": "code",
   "execution_count": null,
   "id": "87936377-6fc9-4d27-b8d2-1d1232bf5ab8",
   "metadata": {
    "ExecuteTime": {
     "end_time": "2021-06-14T21:30:23.345688Z",
     "start_time": "2021-06-14T21:30:23.342580Z"
    },
    "tags": []
   },
   "outputs": [],
   "source": [
    "one_cent = Decimal(\"0.01\")\n",
    "\n",
    "\n",
    "def c(value):\n",
    "    \"Convert `value` to Decimal cents.\"\n",
    "    return Decimal(value).quantize(one_cent)"
   ]
  },
  {
   "cell_type": "code",
   "execution_count": null,
   "id": "f3285db7-624a-4697-aff1-f544a50ecd18",
   "metadata": {
    "ExecuteTime": {
     "end_time": "2021-06-14T21:30:23.366144Z",
     "start_time": "2021-06-14T21:30:23.347295Z"
    },
    "tags": []
   },
   "outputs": [],
   "source": [
    "def index_to_date(df, date_col=\"Date\", drop=True, **sort_kwargs):\n",
    "    \"\"\" Reindex by date, sorted by (date, index)\n",
    "    Explicitly sorting the index guarantees datetime slicing will work. Need to sort multilevel\n",
    "    to preserve sorted transactions per-day.\n",
    "    \"\"\"\n",
    "    tmp = (df.reset_index().set_index(\n",
    "        [date_col,\n",
    "         \"index\"]).sort_index(**sort_kwargs).reset_index(level=\"index\"))\n",
    "    if not (np.diff(tmp[\"index\"]) > 0).all():\n",
    "        print(\n",
    "            \"Warning: transaction index sorted by date is not monotonic increasing\"\n",
    "        )\n",
    "    if drop:\n",
    "        tmp.drop(columns=\"index\", inplace=True)\n",
    "    return tmp"
   ]
  },
  {
   "cell_type": "code",
   "execution_count": null,
   "id": "7cf87d43-61bc-4a6a-874f-77e5094a5d34",
   "metadata": {
    "ExecuteTime": {
     "end_time": "2021-06-14T21:30:25.223742Z",
     "start_time": "2021-06-14T21:30:25.220088Z"
    },
    "tags": []
   },
   "outputs": [],
   "source": [
    "def reduce_description(df, deets, cols=None):\n",
    "    if cols is None:\n",
    "        cols = [\"In\", \"Out\"]\n",
    "    dat = pd.concat(\n",
    "        [\n",
    "            pd.DataFrame(df[df[\"Description\"] == d][cols].sum()).transpose()\n",
    "            for d in deets\n",
    "        ],\n",
    "        join=\"inner\",\n",
    "        ignore_index=True,\n",
    "    )\n",
    "    dat.insert(len(cols), \"Description\", deets)\n",
    "    dat.sort_values(by=cols, ascending=False, inplace=True)\n",
    "    return dat"
   ]
  },
  {
   "cell_type": "code",
   "execution_count": null,
   "id": "bb70d663-b859-4068-927b-b97470e01ad6",
   "metadata": {
    "scrolled": true,
    "tags": []
   },
   "outputs": [],
   "source": [
    "demodf = pd.read_csv(\"5000_bank_rec_sample.csv\",\n",
    "                     parse_dates=[\"Date\"]).rename(columns={\n",
    "                         \"Deposits\": \"In\",\n",
    "                         \"Withdrawls\": \"Out\"\n",
    "                     })\n",
    "\n",
    "demodf = index_to_date(demodf).reset_index()\n",
    "\n",
    "quantcols = [\"In\", \"Out\", \"Balance\"]\n",
    "demodf[quantcols] = (demodf[quantcols].replace(\",\", \"\", regex=True).replace(\n",
    "    r\"\\s+\", np.nan, regex=True).astype(float).fillna(0).applymap(c))\n",
    "with pd_verbose:\n",
    "    display(demodf)"
   ]
  },
  {
   "cell_type": "code",
   "execution_count": null,
   "id": "50f2b9c9-bcd4-4e60-86b0-3f7b500a9fe0",
   "metadata": {},
   "outputs": [],
   "source": [
    "deets = list(set(demodf[\"Description\"]))\n",
    "reduce_description(demodf, deets)"
   ]
  },
  {
   "cell_type": "code",
   "execution_count": null,
   "id": "67d1b870-16dc-4cd9-9f02-042b037e0e05",
   "metadata": {
    "tags": []
   },
   "outputs": [],
   "source": [
    "tree = sieve.Sieve()\n",
    "\n",
    "tree = tree.extend([(\"select\", demodf.index.isin([352, 403]))])\n",
    "\n",
    "tree = tree.extend((\n",
    "    (\"gt\", (demodf[\"In\"] > 1e6) | (demodf[\"Out\"] > 1e6)),\n",
    "    (\"str_isin\", demodf[\"Description\"].isin([\"ATM\", \"Cash\"])),\n",
    "    *((k, demodf[\"Description\"].str.contains(patt, case=False))\n",
    "      for k, patt in (\n",
    "          (\"contains_debit\", \"debit\"),\n",
    "          (\"contains_misc\", \"misc\"),\n",
    "      )),\n",
    "))\n",
    "\n",
    "patts = ((k, re.compile(s, re.IGNORECASE))\n",
    "         for k, s in ((\"patt_trans\", \"trans\"), ))\n",
    "demo_dates = [\n",
    "    \"2020/\" + s\n",
    "    for s in (\"09/15\", \"10/12\", \"11/21\", \"08/20\", \"09/09\", \"10/30\", \"12/10\")\n",
    "]\n",
    "datelims = [\"2020-11-10\", \"2021-01-15\"]\n",
    "\n",
    "tree = tree.branch(\n",
    "    (*((k, demodf[\"Description\"].str.contains(patt)) for k, patt in patts), (\n",
    "        \"date_isin\",\n",
    "        demodf[\"Date\"].dt.tz_localize(None).astype(\"datetime64[D]\").isin(\n",
    "            demo_dates),\n",
    "    ), (\n",
    "        \"daterange\",\n",
    "        (demodf[\"Date\"] >= datelims[0]) & (demodf[\"Date\"] <= datelims[1]),\n",
    "    ), (\"rem\", True)),\n",
    "    \"gt\",\n",
    ")\n",
    "\n",
    "tree = tree.branch([('lt1e5', (demodf[\"In\"] > 1e5) | (demodf[\"Out\"] > 1e5))],\n",
    "                   'contains_debit')\n",
    "\n",
    "tree"
   ]
  },
  {
   "cell_type": "code",
   "execution_count": null,
   "id": "2c1cea15-9e72-4a88-af1a-fc0433e510af",
   "metadata": {},
   "outputs": [],
   "source": [
    "reduce_description(demodf, list(set(demodf[tree.get_data(None)][\"Description\"])))"
   ]
  },
  {
   "cell_type": "code",
   "execution_count": null,
   "id": "94d904d6-5542-4c35-8729-e776b606a280",
   "metadata": {
    "scrolled": true,
    "tags": []
   },
   "outputs": [],
   "source": [
    "for k, v in tree.traverse_leaves():\n",
    "    print(k)\n",
    "    display(demodf[v.data])\n",
    "    print()"
   ]
  },
  {
   "cell_type": "code",
   "execution_count": null,
   "id": "7105a859-4181-49ae-93cf-82d4cc7e8ac3",
   "metadata": {},
   "outputs": [],
   "source": [
    "treecp = copy.deepcopy(tree)\n",
    "res = sieve.Results()\n",
    "\n",
    "res.picker('gt').pick_leaf('food', treecp.get_leaf('gt', 'date_isin'))\n",
    "\n",
    "res.picker('gt').pick_leaves(\n",
    "    filter(lambda km: km[0] != 'daterange', treecp.traverse_leaves('gt')))\n",
    "\n",
    "res.picker('lt').pick_leaves(((k[0], treecp.get_leaf(*k[1:])) for k in (\n",
    "    ('isin', 'str_isin'),\n",
    "    ('deb_llt', 'contains_debit', 'lt1e5'),\n",
    "    ('misc', 'contains_misc'),\n",
    "    ('rem', None),\n",
    ")))\n",
    "\n",
    "treecp"
   ]
  },
  {
   "cell_type": "code",
   "execution_count": null,
   "id": "c3dc4e93-bf3b-49d1-8d1e-6cd59e61d22b",
   "metadata": {},
   "outputs": [],
   "source": []
  }
 ],
 "metadata": {
  "kernelspec": {
   "display_name": "Python 3",
   "language": "python",
   "name": "python3"
  },
  "language_info": {
   "codemirror_mode": {
    "name": "ipython",
    "version": 3
   },
   "file_extension": ".py",
   "mimetype": "text/x-python",
   "name": "python",
   "nbconvert_exporter": "python",
   "pygments_lexer": "ipython3",
   "version": "3.8.8"
  }
 },
 "nbformat": 4,
 "nbformat_minor": 5
}
